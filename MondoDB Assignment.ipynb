{
 "cells": [
  {
   "cell_type": "code",
   "execution_count": 1,
   "id": "ae1c62a0-ae33-42fa-b9e1-d534cfbd43f6",
   "metadata": {},
   "outputs": [
    {
     "ename": "SyntaxError",
     "evalue": "invalid syntax (928096468.py, line 1)",
     "output_type": "error",
     "traceback": [
      "\u001b[0;36m  Cell \u001b[0;32mIn[1], line 1\u001b[0;36m\u001b[0m\n\u001b[0;31m    Q1. What is MongoDB? Explain non-relational databases in short. In which scenarios it is preferred to use\u001b[0m\n\u001b[0m                       ^\u001b[0m\n\u001b[0;31mSyntaxError\u001b[0m\u001b[0;31m:\u001b[0m invalid syntax\n"
     ]
    }
   ],
   "source": [
    "Q1. What is MongoDB? Explain non-relational databases in short. In which scenarios it is preferred to use\n",
    "MongoDB over SQL databases?\n",
    "- MongoDB is schema-less database and it is more flexible than traditional relational database. \n",
    "Non-relational database supports file like JSON and has more flexible data model than relational database. \n",
    "Whenever there is data in JSON file , we use MongoDB as it is more faster and scalable. \n",
    "\n"
   ]
  },
  {
   "cell_type": "code",
   "execution_count": null,
   "id": "7301a5d7-4ef4-4a8c-a636-2cdf14f1f104",
   "metadata": {},
   "outputs": [],
   "source": [
    "Q2. State and Explain the features of MongoDB.\n",
    "-MongoDB is an open-source document-oriented database that is designed to store a large scale of data and also allows you \n",
    "to work with that data very efficiently. It is categorized under NoSQL. "
   ]
  },
  {
   "cell_type": "code",
   "execution_count": null,
   "id": "462f4a57-516e-4fd2-a83f-504c144e62d1",
   "metadata": {},
   "outputs": [],
   "source": [
    "Q3. Write a code to connect MongoDB to Python. Also, create a database and a collection in MongoDB.\n",
    "import pymongo\n",
    "from pymongo.mongo_client import MongoClient\n",
    "\n",
    "uri = \"mongodb+srv://manralh34:<Nanu12345>@cluster0.zy43idw.mongodb.net/?retryWrites=true&w=majority\"\n",
    "\n",
    "# Create a new client and connect to the server\n",
    "client = MongoClient(uri)\n"
   ]
  },
  {
   "cell_type": "code",
   "execution_count": 8,
   "id": "5369535e-2b10-423b-86d6-d3b2de0e907c",
   "metadata": {},
   "outputs": [],
   "source": [
    "client = pymongo.MongoClient(\"mongodb+srv://manralh34:<Nanu12345>@cluster0.zy43idw.mongodb.net/?retryWrites=true&w=majority\")"
   ]
  },
  {
   "cell_type": "code",
   "execution_count": null,
   "id": "d1027e80-e17a-4403-80cc-bad18b3766c1",
   "metadata": {},
   "outputs": [],
   "source": [
    "db = client['pwskills']"
   ]
  },
  {
   "cell_type": "code",
   "execution_count": null,
   "id": "ceec8ed1-7cfd-4e48-b1e4-f899e7ec60cd",
   "metadata": {},
   "outputs": [],
   "source": [
    "data = {\"name\" : \"himani\" , \n",
    "        \"class\" : \"data science masters\" , \n",
    "        \"time\" : \"flexi\" }"
   ]
  },
  {
   "cell_type": "code",
   "execution_count": null,
   "id": "38e98e83-4e24-41fd-bb18-49404278ad87",
   "metadata": {},
   "outputs": [],
   "source": [
    "coll_pwskills = db[\"my_record\"]"
   ]
  },
  {
   "cell_type": "code",
   "execution_count": null,
   "id": "3e50222d-f3c4-4a1e-a580-342074277ac8",
   "metadata": {},
   "outputs": [],
   "source": [
    "coll_pwskills.insert_one(data)"
   ]
  },
  {
   "cell_type": "code",
   "execution_count": null,
   "id": "704263e3-7937-46db-a789-928d0328f2f1",
   "metadata": {},
   "outputs": [],
   "source": [
    "Q5. Explain how you can use the find() method to query the MongoDB database. Write a simple code to\n",
    "demonstrate this.\n",
    "\n",
    "\n",
    "In MongoDB, find() method is used to select documents in a collection and return a cursor to the selected documents.\n",
    "db.Collection_name.find(selection_criteria, projection,options)\n",
    "\n"
   ]
  },
  {
   "cell_type": "code",
   "execution_count": null,
   "id": "21e432e7-b4d7-4371-838f-b850e9a6460e",
   "metadata": {},
   "outputs": [],
   "source": [
    "Q6. Explain the sort() method. Give an example to demonstrate sorting in MongoDB.\n",
    "\n",
    "-The sort() method specifies the order in which the query returns the matching documents from the given collection\n",
    "db.Collection_Name.sort({field_name:1 or -1})"
   ]
  },
  {
   "cell_type": "code",
   "execution_count": null,
   "id": "c39821c8-f07e-410b-a0bf-117b6c80c86c",
   "metadata": {},
   "outputs": [],
   "source": [
    "\n",
    "Q7. Explain why delete_one(), delete_many(), and drop() is used.\n",
    "Delete_many() is used when one needs to delete more than one document.\n",
    "In MongoDB, a single document can be deleted by the method delete_one().\n"
   ]
  }
 ],
 "metadata": {
  "kernelspec": {
   "display_name": "Python 3 (ipykernel)",
   "language": "python",
   "name": "python3"
  },
  "language_info": {
   "codemirror_mode": {
    "name": "ipython",
    "version": 3
   },
   "file_extension": ".py",
   "mimetype": "text/x-python",
   "name": "python",
   "nbconvert_exporter": "python",
   "pygments_lexer": "ipython3",
   "version": "3.10.8"
  }
 },
 "nbformat": 4,
 "nbformat_minor": 5
}
